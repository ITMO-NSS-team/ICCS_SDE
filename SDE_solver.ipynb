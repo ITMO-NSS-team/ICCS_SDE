{
 "cells": [
  {
   "cell_type": "code",
   "execution_count": null,
   "id": "76e457ad",
   "metadata": {},
   "outputs": [],
   "source": [
    "import os\n",
    "import time\n",
    "import sys\n",
    "import epde.interface.interface as epde_alg\n",
    "import matplotlib.pyplot as plt\n",
    "import numpy as np\n",
    "import numpy.random as rnd\n",
    "import pandas as pd\n",
    "import statsmodels.api\n",
    "import torch\n",
    "from epde.interface.prepared_tokens import TrigonometricTokens, CustomTokens, CustomEvaluator\n",
    "from sklearn import preprocessing\n",
    "from tedeous.data import Domain, Conditions, Equation\n",
    "from tedeous.model import Model\n",
    "from tedeous.callbacks import adaptive_lambda, cache, early_stopping, plot\n",
    "from tedeous.optimizers.optimizer import Optimizer\n",
    "from tedeous.device import solver_device\n",
    "from tedeous.device import solver_device, check_device, device_type\n",
    "from tedeous.callbacks import early_stopping\n",
    "from tedeous.data import Domain, Conditions\n",
    "from mpl_interactions import ioff, panhandler, zoom_factory\n",
    "from scipy import stats"
   ]
  },
  {
   "cell_type": "markdown",
   "id": "2a91d8d0",
   "metadata": {},
   "source": [
    "Function for preprocessing data. Preprocessing is done using the statsmodels library."
   ]
  },
  {
   "cell_type": "code",
   "execution_count": null,
   "id": "33b2f11d",
   "metadata": {},
   "outputs": [],
   "source": [
    "def preprocess_data(inputs: np.ndarray):\n",
    "    '''\n",
    "    Calculate trend, standard deviation and mean value of the input time series, passed as `np.ndarray`.\n",
    "    '''\n",
    "    inputs =  preprocessing.normalize([inputs]).reshape((21,))\n",
    "    noise = sm.tsa.tsatools.detrend(inputs, order=2, axis=1)\n",
    "    trend = inputs - noise\n",
    "    std = np.std(inputs)\n",
    "    mean = np.var(inputs)\n",
    "    return inputs, trend, std, mean"
   ]
  },
  {
   "cell_type": "raw",
   "id": "b41b8b91",
   "metadata": {},
   "source": [
    "Initial Monte Carlo sampling function. "
   ]
  },
  {
   "cell_type": "code",
   "execution_count": null,
   "id": "b496eed2",
   "metadata": {},
   "outputs": [],
   "source": [
    "def multiple_monte_carlo_sampling(mean, std, sample_size, samples_num = 15) -> List[np.ndarray]:\n",
    "    multiple_samples = []\n",
    "    for N in range(samples_num):\n",
    "        samples = np.random.normal(mean, std, sample_size)\n",
    "        multiple_samples.append(samples)\n",
    "    return multiple_samples"
   ]
  },
  {
   "cell_type": "code",
   "execution_count": null,
   "id": "4d4b8376",
   "metadata": {},
   "outputs": [],
   "source": [
    "class MonteExp():\n",
    "    def __init__(self, sample: np.ndarray):\n",
    "        self._sample = sample\n",
    "        self._stat = {'mean': np.mean(sample), 'std': np.std(sample)}"
   ]
  },
  {
   "cell_type": "markdown",
   "id": "ac52785e",
   "metadata": {},
   "source": [
    "Function for ODEs discovery"
   ]
  },
  {
   "cell_type": "code",
   "execution_count": null,
   "id": "10928157",
   "metadata": {},
   "outputs": [],
   "source": [
    "def discover_equation(self, epde_search_obj: EpdeSearch, additional_tokens: List, max_factors: int):\n",
    "        epde_search_obj.fit(data = [self._sample,], variable_names = ['u', ], max_deriv_order = 2,\n",
    "        equation_terms_max_number = 4, data_fun_pow = 1, additional_tokens = additional_tokens,\n",
    "        equation_factors_max_number=max_factors, eq_sparsity_interval=(1e-10, 1))\n",
    "return epde_search_obj.equations(only_print=False, only_str=False)[0][0].vals['u'].weights_final"
   ]
  },
  {
   "cell_type": "raw",
   "id": "15cf1d65",
   "metadata": {},
   "source": [
    "Initializing data and creating new samples for first study."
   ]
  },
  {
   "cell_type": "code",
   "execution_count": null,
   "id": "e0867d20",
   "metadata": {},
   "outputs": [],
   "source": [
    "sample = np.array([197, 191, 189, 181, 175, 172, 173, 176, 174, 159, 153, 159, 154, 146, 139, 136, 126, 117, 110, 120, 119]) #monthlydata\n",
    "#sample = pd.read_csv('septemberTSLA2022.csv', sep = ', ', engine = 'python').values\n",
    "inputs, trend, std, mean = preprocess_data(sample)\n",
    "normalized_arr, trend, std, mean = preprocess_data(sample)\n",
    "\n",
    "N_samples = multiple_monte_carlo_sampling(mean = mean, std = std, sample_size = 21)\n",
    "print(N_samples)"
   ]
  },
  {
   "cell_type": "markdown",
   "id": "998bccaf",
   "metadata": {},
   "source": [
    "Creating new samples by summ."
   ]
  },
  {
   "cell_type": "code",
   "execution_count": null,
   "id": "d481d19d",
   "metadata": {},
   "outputs": [],
   "source": [
    "summ_result = trend + N_samples\n",
    "summ_result = np.array(summ_result)\n",
    "experiments = [MonteExp(summ_result[i].reshape([21,])) for i in range(15)]"
   ]
  },
  {
   "cell_type": "markdown",
   "id": "017f903a",
   "metadata": {},
   "source": [
    "Writing conditions for EPDE."
   ]
  },
  {
   "cell_type": "code",
   "execution_count": null,
   "id": "cd0df752",
   "metadata": {},
   "outputs": [],
   "source": [
    "dimensionality = 0\n",
    "t = np.arange(21) \n",
    "print(t.shape)\n",
    "custom_inverse_eval_fun = lambda *grids, **kwargs: np.power(grids[int(kwargs['dim'])], kwargs['power'])\n",
    "custom_inv_fun_evaluator = CustomEvaluator(custom_inverse_eval_fun, eval_fun_params_labels=['dim', 'power'],\n",
    "                                               use_factors_grids=False)\n",
    "grid_params_ranges = {'power': (1, 2), 'dim': (0, dimensionality)}\n",
    "\n",
    "epde_search_obj = EpdeSearch(use_solver=True, dimensionality=dimensionality, boundary=1,\n",
    "                                 coordinate_tensors=[t, ])\n",
    "epde_search_obj.set_preprocessor(default_preprocessor_type='poly',\n",
    "                                     preprocessor_kwargs={'use_smoothing': True})\n",
    "popsize = 5\n",
    "epde_search_obj.set_moeadd_params(population_size=popsize, training_epochs=100)\n",
    "trig_tokens = TrigonometricTokens(dimensionality=dimensionality, freq=(0, np.pi / 2))\n",
    "custom_grid_tokens = CustomTokens(token_type='grid',\n",
    "                                      token_labels=['1/x_[dim]', ],\n",
    "                                      evaluator=custom_inv_fun_evaluator,\n",
    "                                      params_ranges= grid_params_ranges, #{'power' : (1, 1)},              #grid_params_ranges\n",
    "                                      params_equality_ranges=None)\n",
    "factors_max_number = {'factors_num': [1, 2], 'probas': [0.85, 0.15]}"
   ]
  },
  {
   "cell_type": "markdown",
   "id": "449e8431",
   "metadata": {},
   "source": [
    "Extracting coefficients for SDE-discovery"
   ]
  },
  {
   "cell_type": "code",
   "execution_count": null,
   "id": "53110eed",
   "metadata": {},
   "outputs": [],
   "source": [
    "vals = [exp.discover_equation(epde_search_obj, additional_tokens = [custom_grid_tokens,], max_factors=2) for exp in experiments]"
   ]
  },
  {
   "cell_type": "markdown",
   "id": "9a2bcd2b",
   "metadata": {},
   "source": [
    "Defining mean and varience for each column of coefficients."
   ]
  },
  {
   "cell_type": "code",
   "execution_count": null,
   "id": "39f341b1",
   "metadata": {},
   "outputs": [],
   "source": [
    "col_names = ['0', '1', '2', '3']\n",
    "df = pd.DataFrame(vals, columns = col_names)\n",
    "df.reset_index(drop=True, inplace=True)\n",
    "print(df)\n",
    "column_stats = df.aggregate(['mean', 'var'])\n",
    "print(column_stats)\n",
    "\n",
    "stat = {key: (column_stats.loc['mean', key], column_stats.loc['var', key]) for key in col_names}"
   ]
  },
  {
   "cell_type": "raw",
   "id": "67a1a376",
   "metadata": {},
   "source": [
    "Sampling new coeffients."
   ]
  },
  {
   "cell_type": "code",
   "execution_count": null,
   "id": "4ff25a8c",
   "metadata": {},
   "outputs": [],
   "source": [
    "def monte(mean, variance, size):\n",
    "    return np.random.normal(mean, variance, size)\n",
    "\n",
    "monte_vals = {col_name: (torch.tensor(monte(stats[0], stats[1], size = 50), requires_grad=True), torch.tensor(stats[0], requires_grad=True))\n",
    "for col_name, stats in stat.items()}"
   ]
  },
  {
   "cell_type": "raw",
   "id": "9e9f346e",
   "metadata": {},
   "source": [
    "Writing conditions for TEDEoUS."
   ]
  },
  {
   "cell_type": "code",
   "execution_count": null,
   "id": "8bf3401f",
   "metadata": {},
   "outputs": [],
   "source": [
    "solver_device('cpu')\n",
    "grid_res = 21\n",
    "\n",
    "domain = Domain()\n",
    "domain.variable('t', [0, 1], grid_res)\n",
    "boundaries = Conditions()\n",
    "boundaries.dirichlet({'t': 0}, value=normalized_arr[0])\n",
    "boundaries.dirichlet({'t': 0.5}, value=normalized_arr[10])"
   ]
  },
  {
   "cell_type": "code",
   "execution_count": null,
   "id": "43e33a29",
   "metadata": {},
   "outputs": [],
   "source": [
    "h = 0.001\n",
    "    lambda_bound = 100"
   ]
  },
  {
   "cell_type": "raw",
   "id": "568912ee",
   "metadata": {},
   "source": [
    "Defining the from of SDEs"
   ]
  },
  {
   "cell_type": "code",
   "execution_count": null,
   "id": "9849f4df",
   "metadata": {},
   "outputs": [],
   "source": [
    "monte_eqs = [{'monte1*du/dx': {'coeff': mean.item(), 'du/dx': [0], 'pow': 1, 'var': 0},\n",
    "                  'monte2*u':     {'coeff': mean.item(), 'u': [None],  'pow': 1, 'var': 0},} for i in range(16)]"
   ]
  },
  {
   "cell_type": "code",
   "execution_count": null,
   "id": "6982b07e",
   "metadata": {},
   "outputs": [],
   "source": [
    "eqs = [Equation() for i in range(16)]\n",
    "    for eq_idx, eq in enumerate(eqs):\n",
    "        eq.add(monte_eqs[eq_idx])"
   ]
  },
  {
   "cell_type": "code",
   "execution_count": null,
   "id": "1427adb0",
   "metadata": {},
   "outputs": [],
   "source": [
    "Writing function for DEs discovery."
   ]
  },
  {
   "cell_type": "code",
   "execution_count": null,
   "id": "8410d352",
   "metadata": {},
   "outputs": [],
   "source": [
    "def get_ann() -> torch.nn.Sequential:\n",
    "    return torch.nn.Sequential(\n",
    "                                 torch.nn.Linear(1, 100),\n",
    "                                 torch.nn.Tanh(),\n",
    "                                 torch.nn.Linear(100, 100),\n",
    "                                 torch.nn.Tanh(),\n",
    "                                 torch.nn.Linear(100, 100),\n",
    "                                 torch.nn.Tanh(),\n",
    "                                 torch.nn.Linear(100, 100),\n",
    "                                 torch.nn.Tanh(),\n",
    "                                 torch.nn.Linear(100, 100),\n",
    "                                 torch.nn.Tanh(),\n",
    "                                 torch.nn.Linear(100, 100),\n",
    "                                 torch.nn.Tanh(),\n",
    "                                 torch.nn.Linear(100, 1)\n",
    "                                   )\n",
    "\n",
    "anns = [get_ann() for eq in eqs]\n",
    "img_dir = os.path.join(os.path.dirname(__file__), 'eq_img')\n",
    "c_cache = cache.Cache(cache_verbose=False, model_randomize_parameter=1e-6)\n",
    "cb_es = early_stopping.EarlyStopping(eps=1e-6,\n",
    "                                     loss_window=10,\n",
    "                                     no_improvement_patience=100,\n",
    "                                    patience=5,\n",
    "                                    randomize_parameter=1e-10)\n",
    "cb_plots = plot.Plots(save_every=None, print_every=None, img_dir=img_dir)\n",
    "optimizer = Optimizer('Adam', {'lr': 1e-2})"
   ]
  },
  {
   "cell_type": "raw",
   "id": "2953f397",
   "metadata": {},
   "source": [
    "Solution of created SDEs"
   ]
  },
  {
   "cell_type": "code",
   "execution_count": null,
   "id": "667fc8af",
   "metadata": {},
   "outputs": [],
   "source": [
    "start = time.time()\n",
    "    for eq_idx, equation in enumerate(eqs):\n",
    "        model = Model(anns[eq_idx], domain, equation, boundaries)\n",
    "        model.compile('NN', lambda_operator=1, lambda_bound=lambda_bound, h=h)\n",
    "        model.train(optimizer, 1e-4, save_model=False, callbacks=[cb_es, c_cache, cb_plots])\n",
    "\n",
    "    end = time.time()"
   ]
  },
  {
   "cell_type": "code",
   "execution_count": null,
   "id": "221b2d52",
   "metadata": {},
   "outputs": [],
   "source": [
    "grid = domain.build('NN').cpu()\n",
    "grid = check_device(grid)"
   ]
  },
  {
   "cell_type": "raw",
   "id": "e079a5ae",
   "metadata": {},
   "source": [
    "Defining the average solution"
   ]
  },
  {
   "cell_type": "code",
   "execution_count": null,
   "id": "15323f34",
   "metadata": {},
   "outputs": [],
   "source": [
    "solutions = []\n",
    "for net_idx, net in enumerate(anns):\n",
    "    anns[net_idx] = net.to(device=device_type())\n",
    "    solutions.append(anns[net_idx](grid).detach().numpy().reshape(-1))\n",
    "\n",
    "avg_sol = torch.stack(solutions[:21], dim = 0).mean(dim = 0).detach().numpy()"
   ]
  },
  {
   "cell_type": "code",
   "execution_count": null,
   "id": "6266e144",
   "metadata": {},
   "outputs": [],
   "source": [
    "window_size = 2\n",
    "std_dev_average = np.zeros_like(avg_sol)  # стандартное отклонение\n",
    "for i in range(len(avg_sol)):\n",
    "    std_dev_average[i] = np.std(avg_sol[i:i + window_size])\n",
    "co_interval = 2.99 * std_dev_average"
   ]
  },
  {
   "cell_type": "code",
   "execution_count": null,
   "id": "ecef3f67",
   "metadata": {},
   "outputs": [],
   "source": [
    "fig = plt.figure()\n",
    "canvas = FigureCanvas(fig)\n",
    "plt.plot(t, avg_sol, label='Average solution', color='slateblue', marker='.')\n",
    "plt.fill_between(t, avg_sol - co_interval, avg_sol + co_interval, color='lightskyblue', alpha=0.3,\n",
    "                     label='CI 95 percent')\n",
    "plt.plot(t, normalized_arr, label='Real Data')\n",
    "plt.ylim(0, 0.350)\n",
    "plt.xlim(0, 1)\n",
    "plt.xlabel('x')\n",
    "plt.ylabel('y')\n",
    "plt.grid(True)\n",
    "plt.legend(loc='upper right')\n",
    "plt.title('Family of ODEs solved by TEDEouS')\n",
    "plt.show()"
   ]
  }
 ],
 "metadata": {
  "kernelspec": {
   "display_name": "Python 3 (ipykernel)",
   "language": "python",
   "name": "python3"
  },
  "language_info": {
   "codemirror_mode": {
    "name": "ipython",
    "version": 3
   },
   "file_extension": ".py",
   "mimetype": "text/x-python",
   "name": "python",
   "nbconvert_exporter": "python",
   "pygments_lexer": "ipython3",
   "version": "3.11.4"
  }
 },
 "nbformat": 4,
 "nbformat_minor": 5
}
